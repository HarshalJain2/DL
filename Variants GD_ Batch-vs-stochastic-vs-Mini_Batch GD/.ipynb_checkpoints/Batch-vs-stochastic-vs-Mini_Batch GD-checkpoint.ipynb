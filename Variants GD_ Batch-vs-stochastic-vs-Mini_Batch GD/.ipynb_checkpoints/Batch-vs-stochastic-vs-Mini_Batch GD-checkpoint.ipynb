{
 "cells": [
  {
   "cell_type": "markdown",
   "id": "06e5eac4",
   "metadata": {},
   "source": [
    "# Stochastics GD------ batch_size=1"
   ]
  },
  {
   "cell_type": "code",
   "execution_count": 14,
   "id": "21383553",
   "metadata": {},
   "outputs": [],
   "source": [
    "import numpy as np\n",
    "import pandas as pd\n",
    "import time"
   ]
  },
  {
   "cell_type": "code",
   "execution_count": 15,
   "id": "78d5a462",
   "metadata": {},
   "outputs": [],
   "source": [
    "df = pd.read_csv('Social_Network_Ads.csv')"
   ]
  },
  {
   "cell_type": "code",
   "execution_count": 16,
   "id": "8b20a45c",
   "metadata": {},
   "outputs": [
    {
     "data": {
      "text/html": [
       "<div>\n",
       "<style scoped>\n",
       "    .dataframe tbody tr th:only-of-type {\n",
       "        vertical-align: middle;\n",
       "    }\n",
       "\n",
       "    .dataframe tbody tr th {\n",
       "        vertical-align: top;\n",
       "    }\n",
       "\n",
       "    .dataframe thead th {\n",
       "        text-align: right;\n",
       "    }\n",
       "</style>\n",
       "<table border=\"1\" class=\"dataframe\">\n",
       "  <thead>\n",
       "    <tr style=\"text-align: right;\">\n",
       "      <th></th>\n",
       "      <th>User ID</th>\n",
       "      <th>Gender</th>\n",
       "      <th>Age</th>\n",
       "      <th>EstimatedSalary</th>\n",
       "      <th>Purchased</th>\n",
       "    </tr>\n",
       "  </thead>\n",
       "  <tbody>\n",
       "    <tr>\n",
       "      <th>0</th>\n",
       "      <td>15624510</td>\n",
       "      <td>Male</td>\n",
       "      <td>19</td>\n",
       "      <td>19000</td>\n",
       "      <td>0</td>\n",
       "    </tr>\n",
       "    <tr>\n",
       "      <th>1</th>\n",
       "      <td>15810944</td>\n",
       "      <td>Male</td>\n",
       "      <td>35</td>\n",
       "      <td>20000</td>\n",
       "      <td>0</td>\n",
       "    </tr>\n",
       "    <tr>\n",
       "      <th>2</th>\n",
       "      <td>15668575</td>\n",
       "      <td>Female</td>\n",
       "      <td>26</td>\n",
       "      <td>43000</td>\n",
       "      <td>0</td>\n",
       "    </tr>\n",
       "    <tr>\n",
       "      <th>3</th>\n",
       "      <td>15603246</td>\n",
       "      <td>Female</td>\n",
       "      <td>27</td>\n",
       "      <td>57000</td>\n",
       "      <td>0</td>\n",
       "    </tr>\n",
       "    <tr>\n",
       "      <th>4</th>\n",
       "      <td>15804002</td>\n",
       "      <td>Male</td>\n",
       "      <td>19</td>\n",
       "      <td>76000</td>\n",
       "      <td>0</td>\n",
       "    </tr>\n",
       "  </tbody>\n",
       "</table>\n",
       "</div>"
      ],
      "text/plain": [
       "    User ID  Gender  Age  EstimatedSalary  Purchased\n",
       "0  15624510    Male   19            19000          0\n",
       "1  15810944    Male   35            20000          0\n",
       "2  15668575  Female   26            43000          0\n",
       "3  15603246  Female   27            57000          0\n",
       "4  15804002    Male   19            76000          0"
      ]
     },
     "execution_count": 16,
     "metadata": {},
     "output_type": "execute_result"
    }
   ],
   "source": [
    "df.head()"
   ]
  },
  {
   "cell_type": "code",
   "execution_count": 17,
   "id": "ae42d96e",
   "metadata": {},
   "outputs": [],
   "source": [
    "df = df[['Age','EstimatedSalary','Purchased']]"
   ]
  },
  {
   "cell_type": "code",
   "execution_count": 18,
   "id": "be5f9ea0",
   "metadata": {},
   "outputs": [
    {
     "data": {
      "text/html": [
       "<div>\n",
       "<style scoped>\n",
       "    .dataframe tbody tr th:only-of-type {\n",
       "        vertical-align: middle;\n",
       "    }\n",
       "\n",
       "    .dataframe tbody tr th {\n",
       "        vertical-align: top;\n",
       "    }\n",
       "\n",
       "    .dataframe thead th {\n",
       "        text-align: right;\n",
       "    }\n",
       "</style>\n",
       "<table border=\"1\" class=\"dataframe\">\n",
       "  <thead>\n",
       "    <tr style=\"text-align: right;\">\n",
       "      <th></th>\n",
       "      <th>Age</th>\n",
       "      <th>EstimatedSalary</th>\n",
       "      <th>Purchased</th>\n",
       "    </tr>\n",
       "  </thead>\n",
       "  <tbody>\n",
       "    <tr>\n",
       "      <th>0</th>\n",
       "      <td>19</td>\n",
       "      <td>19000</td>\n",
       "      <td>0</td>\n",
       "    </tr>\n",
       "    <tr>\n",
       "      <th>1</th>\n",
       "      <td>35</td>\n",
       "      <td>20000</td>\n",
       "      <td>0</td>\n",
       "    </tr>\n",
       "    <tr>\n",
       "      <th>2</th>\n",
       "      <td>26</td>\n",
       "      <td>43000</td>\n",
       "      <td>0</td>\n",
       "    </tr>\n",
       "    <tr>\n",
       "      <th>3</th>\n",
       "      <td>27</td>\n",
       "      <td>57000</td>\n",
       "      <td>0</td>\n",
       "    </tr>\n",
       "    <tr>\n",
       "      <th>4</th>\n",
       "      <td>19</td>\n",
       "      <td>76000</td>\n",
       "      <td>0</td>\n",
       "    </tr>\n",
       "  </tbody>\n",
       "</table>\n",
       "</div>"
      ],
      "text/plain": [
       "   Age  EstimatedSalary  Purchased\n",
       "0   19            19000          0\n",
       "1   35            20000          0\n",
       "2   26            43000          0\n",
       "3   27            57000          0\n",
       "4   19            76000          0"
      ]
     },
     "execution_count": 18,
     "metadata": {},
     "output_type": "execute_result"
    }
   ],
   "source": [
    "df.head()"
   ]
  },
  {
   "cell_type": "code",
   "execution_count": 19,
   "id": "d3797a48",
   "metadata": {},
   "outputs": [],
   "source": [
    "X = df.iloc[:,0:2]\n",
    "y = df.iloc[:,-1]"
   ]
  },
  {
   "cell_type": "code",
   "execution_count": 20,
   "id": "dee1ec15",
   "metadata": {},
   "outputs": [
    {
     "data": {
      "text/html": [
       "<div>\n",
       "<style scoped>\n",
       "    .dataframe tbody tr th:only-of-type {\n",
       "        vertical-align: middle;\n",
       "    }\n",
       "\n",
       "    .dataframe tbody tr th {\n",
       "        vertical-align: top;\n",
       "    }\n",
       "\n",
       "    .dataframe thead th {\n",
       "        text-align: right;\n",
       "    }\n",
       "</style>\n",
       "<table border=\"1\" class=\"dataframe\">\n",
       "  <thead>\n",
       "    <tr style=\"text-align: right;\">\n",
       "      <th></th>\n",
       "      <th>Age</th>\n",
       "      <th>EstimatedSalary</th>\n",
       "    </tr>\n",
       "  </thead>\n",
       "  <tbody>\n",
       "    <tr>\n",
       "      <th>0</th>\n",
       "      <td>19</td>\n",
       "      <td>19000</td>\n",
       "    </tr>\n",
       "    <tr>\n",
       "      <th>1</th>\n",
       "      <td>35</td>\n",
       "      <td>20000</td>\n",
       "    </tr>\n",
       "    <tr>\n",
       "      <th>2</th>\n",
       "      <td>26</td>\n",
       "      <td>43000</td>\n",
       "    </tr>\n",
       "    <tr>\n",
       "      <th>3</th>\n",
       "      <td>27</td>\n",
       "      <td>57000</td>\n",
       "    </tr>\n",
       "    <tr>\n",
       "      <th>4</th>\n",
       "      <td>19</td>\n",
       "      <td>76000</td>\n",
       "    </tr>\n",
       "    <tr>\n",
       "      <th>...</th>\n",
       "      <td>...</td>\n",
       "      <td>...</td>\n",
       "    </tr>\n",
       "    <tr>\n",
       "      <th>395</th>\n",
       "      <td>46</td>\n",
       "      <td>41000</td>\n",
       "    </tr>\n",
       "    <tr>\n",
       "      <th>396</th>\n",
       "      <td>51</td>\n",
       "      <td>23000</td>\n",
       "    </tr>\n",
       "    <tr>\n",
       "      <th>397</th>\n",
       "      <td>50</td>\n",
       "      <td>20000</td>\n",
       "    </tr>\n",
       "    <tr>\n",
       "      <th>398</th>\n",
       "      <td>36</td>\n",
       "      <td>33000</td>\n",
       "    </tr>\n",
       "    <tr>\n",
       "      <th>399</th>\n",
       "      <td>49</td>\n",
       "      <td>36000</td>\n",
       "    </tr>\n",
       "  </tbody>\n",
       "</table>\n",
       "<p>400 rows × 2 columns</p>\n",
       "</div>"
      ],
      "text/plain": [
       "     Age  EstimatedSalary\n",
       "0     19            19000\n",
       "1     35            20000\n",
       "2     26            43000\n",
       "3     27            57000\n",
       "4     19            76000\n",
       "..   ...              ...\n",
       "395   46            41000\n",
       "396   51            23000\n",
       "397   50            20000\n",
       "398   36            33000\n",
       "399   49            36000\n",
       "\n",
       "[400 rows x 2 columns]"
      ]
     },
     "execution_count": 20,
     "metadata": {},
     "output_type": "execute_result"
    }
   ],
   "source": [
    "X"
   ]
  },
  {
   "cell_type": "code",
   "execution_count": 21,
   "id": "03f8d949",
   "metadata": {},
   "outputs": [],
   "source": [
    "from sklearn.preprocessing import StandardScaler\n",
    "scaler = StandardScaler()\n",
    "\n",
    "X_scaled = scaler.fit_transform(X)"
   ]
  },
  {
   "cell_type": "code",
   "execution_count": 22,
   "id": "ab74729e",
   "metadata": {},
   "outputs": [
    {
     "data": {
      "text/plain": [
       "(400, 2)"
      ]
     },
     "execution_count": 22,
     "metadata": {},
     "output_type": "execute_result"
    }
   ],
   "source": [
    "X_scaled.shape"
   ]
  },
  {
   "cell_type": "code",
   "execution_count": 23,
   "id": "4d8a5299",
   "metadata": {},
   "outputs": [],
   "source": [
    "import tensorflow as tf\n",
    "from tensorflow import keras\n",
    "from keras import Sequential\n",
    "from keras.layers import Dense"
   ]
  },
  {
   "cell_type": "code",
   "execution_count": 24,
   "id": "b485eff8",
   "metadata": {},
   "outputs": [],
   "source": [
    "model = Sequential()\n",
    "\n",
    "model.add(Dense(10,activation='relu',input_dim=2))\n",
    "model.add(Dense(10,activation='relu'))\n",
    "model.add(Dense(1,activation='sigmoid'))"
   ]
  },
  {
   "cell_type": "code",
   "execution_count": 25,
   "id": "43d4803d",
   "metadata": {},
   "outputs": [
    {
     "name": "stdout",
     "output_type": "stream",
     "text": [
      "Model: \"sequential_1\"\n",
      "_________________________________________________________________\n",
      " Layer (type)                Output Shape              Param #   \n",
      "=================================================================\n",
      " dense_3 (Dense)             (None, 10)                30        \n",
      "                                                                 \n",
      " dense_4 (Dense)             (None, 10)                110       \n",
      "                                                                 \n",
      " dense_5 (Dense)             (None, 1)                 11        \n",
      "                                                                 \n",
      "=================================================================\n",
      "Total params: 151 (604.00 Byte)\n",
      "Trainable params: 151 (604.00 Byte)\n",
      "Non-trainable params: 0 (0.00 Byte)\n",
      "_________________________________________________________________\n"
     ]
    }
   ],
   "source": [
    "model.summary()"
   ]
  },
  {
   "cell_type": "code",
   "execution_count": 26,
   "id": "61d2a197",
   "metadata": {},
   "outputs": [
    {
     "name": "stdout",
     "output_type": "stream",
     "text": [
      "Epoch 1/25\n",
      "320/320 [==============================] - 2s 4ms/step - loss: 0.4516 - accuracy: 0.7437 - val_loss: 0.6191 - val_accuracy: 0.7000\n",
      "Epoch 2/25\n",
      "320/320 [==============================] - 1s 4ms/step - loss: 0.3489 - accuracy: 0.8062 - val_loss: 0.5284 - val_accuracy: 0.7875\n",
      "Epoch 3/25\n",
      "320/320 [==============================] - 1s 4ms/step - loss: 0.3268 - accuracy: 0.8281 - val_loss: 0.4770 - val_accuracy: 0.8250\n",
      "Epoch 4/25\n",
      "320/320 [==============================] - 1s 3ms/step - loss: 0.3191 - accuracy: 0.8313 - val_loss: 0.4419 - val_accuracy: 0.8500\n",
      "Epoch 5/25\n",
      "320/320 [==============================] - 1s 3ms/step - loss: 0.3098 - accuracy: 0.8438 - val_loss: 0.4252 - val_accuracy: 0.8750\n",
      "Epoch 6/25\n",
      "320/320 [==============================] - 1s 3ms/step - loss: 0.3084 - accuracy: 0.8375 - val_loss: 0.4019 - val_accuracy: 0.8750\n",
      "Epoch 7/25\n",
      "320/320 [==============================] - 1s 3ms/step - loss: 0.3137 - accuracy: 0.8375 - val_loss: 0.3944 - val_accuracy: 0.8625\n",
      "Epoch 8/25\n",
      "320/320 [==============================] - 1s 3ms/step - loss: 0.3042 - accuracy: 0.8375 - val_loss: 0.3859 - val_accuracy: 0.8625\n",
      "Epoch 9/25\n",
      "320/320 [==============================] - 1s 3ms/step - loss: 0.3050 - accuracy: 0.8375 - val_loss: 0.3767 - val_accuracy: 0.8625\n",
      "Epoch 10/25\n",
      "320/320 [==============================] - 1s 4ms/step - loss: 0.2997 - accuracy: 0.8500 - val_loss: 0.3672 - val_accuracy: 0.9250\n",
      "Epoch 11/25\n",
      "320/320 [==============================] - 1s 3ms/step - loss: 0.3047 - accuracy: 0.8719 - val_loss: 0.3550 - val_accuracy: 0.9250\n",
      "Epoch 12/25\n",
      "320/320 [==============================] - 1s 3ms/step - loss: 0.2947 - accuracy: 0.8687 - val_loss: 0.3532 - val_accuracy: 0.9250\n",
      "Epoch 13/25\n",
      "320/320 [==============================] - 1s 3ms/step - loss: 0.2954 - accuracy: 0.8687 - val_loss: 0.3422 - val_accuracy: 0.9375\n",
      "Epoch 14/25\n",
      "320/320 [==============================] - 1s 3ms/step - loss: 0.2915 - accuracy: 0.8750 - val_loss: 0.3403 - val_accuracy: 0.9250\n",
      "Epoch 15/25\n",
      "320/320 [==============================] - 1s 3ms/step - loss: 0.2940 - accuracy: 0.8781 - val_loss: 0.3290 - val_accuracy: 0.9250\n",
      "Epoch 16/25\n",
      "320/320 [==============================] - 1s 4ms/step - loss: 0.2904 - accuracy: 0.8813 - val_loss: 0.3223 - val_accuracy: 0.9375\n",
      "Epoch 17/25\n",
      "320/320 [==============================] - 1s 3ms/step - loss: 0.2907 - accuracy: 0.8719 - val_loss: 0.3162 - val_accuracy: 0.9375\n",
      "Epoch 18/25\n",
      "320/320 [==============================] - 1s 3ms/step - loss: 0.2891 - accuracy: 0.8781 - val_loss: 0.3095 - val_accuracy: 0.9625\n",
      "Epoch 19/25\n",
      "320/320 [==============================] - 1s 3ms/step - loss: 0.2836 - accuracy: 0.8813 - val_loss: 0.3015 - val_accuracy: 0.9750\n",
      "Epoch 20/25\n",
      "320/320 [==============================] - 1s 4ms/step - loss: 0.2863 - accuracy: 0.8844 - val_loss: 0.2997 - val_accuracy: 0.9375\n",
      "Epoch 21/25\n",
      "320/320 [==============================] - 1s 3ms/step - loss: 0.2843 - accuracy: 0.8781 - val_loss: 0.2911 - val_accuracy: 0.9625\n",
      "Epoch 22/25\n",
      "320/320 [==============================] - 1s 3ms/step - loss: 0.2820 - accuracy: 0.8813 - val_loss: 0.2740 - val_accuracy: 0.9750\n",
      "Epoch 23/25\n",
      "320/320 [==============================] - 1s 4ms/step - loss: 0.2774 - accuracy: 0.8813 - val_loss: 0.2656 - val_accuracy: 0.9625\n",
      "Epoch 24/25\n",
      "320/320 [==============================] - 1s 3ms/step - loss: 0.2818 - accuracy: 0.8844 - val_loss: 0.2591 - val_accuracy: 0.9625\n",
      "Epoch 25/25\n",
      "320/320 [==============================] - 1s 4ms/step - loss: 0.2750 - accuracy: 0.8875 - val_loss: 0.2508 - val_accuracy: 0.9750\n",
      "total time to predict:-  28.705976009368896\n"
     ]
    }
   ],
   "source": [
    "model.compile(loss='binary_crossentropy',metrics=['accuracy'])\n",
    "start = time.time()\n",
    "history = model.fit(X_scaled,y,epochs=25,batch_size=1,validation_split=0.2)\n",
    "print('total time to predict:- ',time.time() - start)"
   ]
  },
  {
   "cell_type": "code",
   "execution_count": 27,
   "id": "8a6493fb",
   "metadata": {},
   "outputs": [
    {
     "data": {
      "text/plain": [
       "[<matplotlib.lines.Line2D at 0x1c3f22dcca0>]"
      ]
     },
     "execution_count": 27,
     "metadata": {},
     "output_type": "execute_result"
    },
    {
     "data": {
      "image/png": "[encoded data removed]",
      "text/plain": [
       "<Figure size 640x480 with 1 Axes>"
      ]
     },
     "metadata": {},
     "output_type": "display_data"
    }
   ],
   "source": [
    "import matplotlib.pyplot as plt\n",
    "plt.plot(history.history['loss'])\n",
    "plt.plot(history.history['val_loss'])"
   ]
  },
  {
   "cell_type": "markdown",
   "id": "70d3ed0c",
   "metadata": {},
   "source": [
    "# Batch GD ------ batch_size=n"
   ]
  },
  {
   "cell_type": "code",
   "execution_count": 28,
   "id": "dec3bf29",
   "metadata": {},
   "outputs": [],
   "source": [
    "df1 = pd.read_csv('Social_Network_Ads.csv')"
   ]
  },
  {
   "cell_type": "code",
   "execution_count": 29,
   "id": "fba4f934",
   "metadata": {},
   "outputs": [
    {
     "data": {
      "text/html": [
       "<div>\n",
       "<style scoped>\n",
       "    .dataframe tbody tr th:only-of-type {\n",
       "        vertical-align: middle;\n",
       "    }\n",
       "\n",
       "    .dataframe tbody tr th {\n",
       "        vertical-align: top;\n",
       "    }\n",
       "\n",
       "    .dataframe thead th {\n",
       "        text-align: right;\n",
       "    }\n",
       "</style>\n",
       "<table border=\"1\" class=\"dataframe\">\n",
       "  <thead>\n",
       "    <tr style=\"text-align: right;\">\n",
       "      <th></th>\n",
       "      <th>User ID</th>\n",
       "      <th>Gender</th>\n",
       "      <th>Age</th>\n",
       "      <th>EstimatedSalary</th>\n",
       "      <th>Purchased</th>\n",
       "    </tr>\n",
       "  </thead>\n",
       "  <tbody>\n",
       "    <tr>\n",
       "      <th>0</th>\n",
       "      <td>15624510</td>\n",
       "      <td>Male</td>\n",
       "      <td>19</td>\n",
       "      <td>19000</td>\n",
       "      <td>0</td>\n",
       "    </tr>\n",
       "    <tr>\n",
       "      <th>1</th>\n",
       "      <td>15810944</td>\n",
       "      <td>Male</td>\n",
       "      <td>35</td>\n",
       "      <td>20000</td>\n",
       "      <td>0</td>\n",
       "    </tr>\n",
       "    <tr>\n",
       "      <th>2</th>\n",
       "      <td>15668575</td>\n",
       "      <td>Female</td>\n",
       "      <td>26</td>\n",
       "      <td>43000</td>\n",
       "      <td>0</td>\n",
       "    </tr>\n",
       "    <tr>\n",
       "      <th>3</th>\n",
       "      <td>15603246</td>\n",
       "      <td>Female</td>\n",
       "      <td>27</td>\n",
       "      <td>57000</td>\n",
       "      <td>0</td>\n",
       "    </tr>\n",
       "    <tr>\n",
       "      <th>4</th>\n",
       "      <td>15804002</td>\n",
       "      <td>Male</td>\n",
       "      <td>19</td>\n",
       "      <td>76000</td>\n",
       "      <td>0</td>\n",
       "    </tr>\n",
       "  </tbody>\n",
       "</table>\n",
       "</div>"
      ],
      "text/plain": [
       "    User ID  Gender  Age  EstimatedSalary  Purchased\n",
       "0  15624510    Male   19            19000          0\n",
       "1  15810944    Male   35            20000          0\n",
       "2  15668575  Female   26            43000          0\n",
       "3  15603246  Female   27            57000          0\n",
       "4  15804002    Male   19            76000          0"
      ]
     },
     "execution_count": 29,
     "metadata": {},
     "output_type": "execute_result"
    }
   ],
   "source": [
    "df1.head()"
   ]
  },
  {
   "cell_type": "code",
   "execution_count": 30,
   "id": "1db96629",
   "metadata": {},
   "outputs": [],
   "source": [
    "df1 = df1[['Age','EstimatedSalary','Purchased']]"
   ]
  },
  {
   "cell_type": "code",
   "execution_count": 31,
   "id": "417e0bf4",
   "metadata": {},
   "outputs": [
    {
     "data": {
      "text/html": [
       "<div>\n",
       "<style scoped>\n",
       "    .dataframe tbody tr th:only-of-type {\n",
       "        vertical-align: middle;\n",
       "    }\n",
       "\n",
       "    .dataframe tbody tr th {\n",
       "        vertical-align: top;\n",
       "    }\n",
       "\n",
       "    .dataframe thead th {\n",
       "        text-align: right;\n",
       "    }\n",
       "</style>\n",
       "<table border=\"1\" class=\"dataframe\">\n",
       "  <thead>\n",
       "    <tr style=\"text-align: right;\">\n",
       "      <th></th>\n",
       "      <th>Age</th>\n",
       "      <th>EstimatedSalary</th>\n",
       "      <th>Purchased</th>\n",
       "    </tr>\n",
       "  </thead>\n",
       "  <tbody>\n",
       "    <tr>\n",
       "      <th>0</th>\n",
       "      <td>19</td>\n",
       "      <td>19000</td>\n",
       "      <td>0</td>\n",
       "    </tr>\n",
       "    <tr>\n",
       "      <th>1</th>\n",
       "      <td>35</td>\n",
       "      <td>20000</td>\n",
       "      <td>0</td>\n",
       "    </tr>\n",
       "    <tr>\n",
       "      <th>2</th>\n",
       "      <td>26</td>\n",
       "      <td>43000</td>\n",
       "      <td>0</td>\n",
       "    </tr>\n",
       "    <tr>\n",
       "      <th>3</th>\n",
       "      <td>27</td>\n",
       "      <td>57000</td>\n",
       "      <td>0</td>\n",
       "    </tr>\n",
       "    <tr>\n",
       "      <th>4</th>\n",
       "      <td>19</td>\n",
       "      <td>76000</td>\n",
       "      <td>0</td>\n",
       "    </tr>\n",
       "  </tbody>\n",
       "</table>\n",
       "</div>"
      ],
      "text/plain": [
       "   Age  EstimatedSalary  Purchased\n",
       "0   19            19000          0\n",
       "1   35            20000          0\n",
       "2   26            43000          0\n",
       "3   27            57000          0\n",
       "4   19            76000          0"
      ]
     },
     "execution_count": 31,
     "metadata": {},
     "output_type": "execute_result"
    }
   ],
   "source": [
    "df1.head()"
   ]
  },
  {
   "cell_type": "code",
   "execution_count": 32,
   "id": "37ffeb47",
   "metadata": {},
   "outputs": [],
   "source": [
    "X = df1.iloc[:,0:2]\n",
    "y = df1.iloc[:,-1]"
   ]
  },
  {
   "cell_type": "code",
   "execution_count": 33,
   "id": "8fcff49b",
   "metadata": {},
   "outputs": [
    {
     "data": {
      "text/html": [
       "<div>\n",
       "<style scoped>\n",
       "    .dataframe tbody tr th:only-of-type {\n",
       "        vertical-align: middle;\n",
       "    }\n",
       "\n",
       "    .dataframe tbody tr th {\n",
       "        vertical-align: top;\n",
       "    }\n",
       "\n",
       "    .dataframe thead th {\n",
       "        text-align: right;\n",
       "    }\n",
       "</style>\n",
       "<table border=\"1\" class=\"dataframe\">\n",
       "  <thead>\n",
       "    <tr style=\"text-align: right;\">\n",
       "      <th></th>\n",
       "      <th>Age</th>\n",
       "      <th>EstimatedSalary</th>\n",
       "    </tr>\n",
       "  </thead>\n",
       "  <tbody>\n",
       "    <tr>\n",
       "      <th>0</th>\n",
       "      <td>19</td>\n",
       "      <td>19000</td>\n",
       "    </tr>\n",
       "    <tr>\n",
       "      <th>1</th>\n",
       "      <td>35</td>\n",
       "      <td>20000</td>\n",
       "    </tr>\n",
       "    <tr>\n",
       "      <th>2</th>\n",
       "      <td>26</td>\n",
       "      <td>43000</td>\n",
       "    </tr>\n",
       "    <tr>\n",
       "      <th>3</th>\n",
       "      <td>27</td>\n",
       "      <td>57000</td>\n",
       "    </tr>\n",
       "    <tr>\n",
       "      <th>4</th>\n",
       "      <td>19</td>\n",
       "      <td>76000</td>\n",
       "    </tr>\n",
       "    <tr>\n",
       "      <th>...</th>\n",
       "      <td>...</td>\n",
       "      <td>...</td>\n",
       "    </tr>\n",
       "    <tr>\n",
       "      <th>395</th>\n",
       "      <td>46</td>\n",
       "      <td>41000</td>\n",
       "    </tr>\n",
       "    <tr>\n",
       "      <th>396</th>\n",
       "      <td>51</td>\n",
       "      <td>23000</td>\n",
       "    </tr>\n",
       "    <tr>\n",
       "      <th>397</th>\n",
       "      <td>50</td>\n",
       "      <td>20000</td>\n",
       "    </tr>\n",
       "    <tr>\n",
       "      <th>398</th>\n",
       "      <td>36</td>\n",
       "      <td>33000</td>\n",
       "    </tr>\n",
       "    <tr>\n",
       "      <th>399</th>\n",
       "      <td>49</td>\n",
       "      <td>36000</td>\n",
       "    </tr>\n",
       "  </tbody>\n",
       "</table>\n",
       "<p>400 rows × 2 columns</p>\n",
       "</div>"
      ],
      "text/plain": [
       "     Age  EstimatedSalary\n",
       "0     19            19000\n",
       "1     35            20000\n",
       "2     26            43000\n",
       "3     27            57000\n",
       "4     19            76000\n",
       "..   ...              ...\n",
       "395   46            41000\n",
       "396   51            23000\n",
       "397   50            20000\n",
       "398   36            33000\n",
       "399   49            36000\n",
       "\n",
       "[400 rows x 2 columns]"
      ]
     },
     "execution_count": 33,
     "metadata": {},
     "output_type": "execute_result"
    }
   ],
   "source": [
    "X"
   ]
  },
  {
   "cell_type": "code",
   "execution_count": 34,
   "id": "433876d5",
   "metadata": {},
   "outputs": [],
   "source": [
    "from sklearn.preprocessing import StandardScaler\n",
    "scaler = StandardScaler()\n",
    "\n",
    "X_scaled = scaler.fit_transform(X)"
   ]
  },
  {
   "cell_type": "code",
   "execution_count": 35,
   "id": "35291adf",
   "metadata": {},
   "outputs": [
    {
     "data": {
      "text/plain": [
       "(400, 2)"
      ]
     },
     "execution_count": 35,
     "metadata": {},
     "output_type": "execute_result"
    }
   ],
   "source": [
    "X_scaled.shape"
   ]
  },
  {
   "cell_type": "code",
   "execution_count": 36,
   "id": "c79903f3",
   "metadata": {},
   "outputs": [],
   "source": [
    "model = Sequential()\n",
    "\n",
    "model.add(Dense(10,activation='relu',input_dim=2))\n",
    "model.add(Dense(10,activation='relu'))\n",
    "model.add(Dense(1,activation='sigmoid'))"
   ]
  },
  {
   "cell_type": "code",
   "execution_count": 37,
   "id": "5254f0c3",
   "metadata": {},
   "outputs": [
    {
     "name": "stdout",
     "output_type": "stream",
     "text": [
      "Epoch 1/25\n",
      "1/1 [==============================] - 1s 1s/step - loss: 0.7031 - accuracy: 0.3938 - val_loss: 0.6870 - val_accuracy: 0.5875\n",
      "Epoch 2/25\n",
      "1/1 [==============================] - 0s 85ms/step - loss: 0.6927 - accuracy: 0.4594 - val_loss: 0.6877 - val_accuracy: 0.7125\n",
      "Epoch 3/25\n",
      "1/1 [==============================] - 0s 73ms/step - loss: 0.6852 - accuracy: 0.5656 - val_loss: 0.6882 - val_accuracy: 0.7625\n",
      "Epoch 4/25\n",
      "1/1 [==============================] - 0s 81ms/step - loss: 0.6791 - accuracy: 0.6500 - val_loss: 0.6887 - val_accuracy: 0.7625\n",
      "Epoch 5/25\n",
      "1/1 [==============================] - 0s 83ms/step - loss: 0.6738 - accuracy: 0.7156 - val_loss: 0.6891 - val_accuracy: 0.6750\n",
      "Epoch 6/25\n",
      "1/1 [==============================] - 0s 83ms/step - loss: 0.6690 - accuracy: 0.7625 - val_loss: 0.6895 - val_accuracy: 0.5875\n",
      "Epoch 7/25\n",
      "1/1 [==============================] - 0s 106ms/step - loss: 0.6645 - accuracy: 0.7688 - val_loss: 0.6899 - val_accuracy: 0.5625\n",
      "Epoch 8/25\n",
      "1/1 [==============================] - 0s 75ms/step - loss: 0.6602 - accuracy: 0.7656 - val_loss: 0.6902 - val_accuracy: 0.5125\n",
      "Epoch 9/25\n",
      "1/1 [==============================] - 0s 102ms/step - loss: 0.6562 - accuracy: 0.7625 - val_loss: 0.6905 - val_accuracy: 0.5000\n",
      "Epoch 10/25\n",
      "1/1 [==============================] - 0s 81ms/step - loss: 0.6523 - accuracy: 0.7656 - val_loss: 0.6908 - val_accuracy: 0.4875\n",
      "Epoch 11/25\n",
      "1/1 [==============================] - 0s 82ms/step - loss: 0.6486 - accuracy: 0.7625 - val_loss: 0.6911 - val_accuracy: 0.4750\n",
      "Epoch 12/25\n",
      "1/1 [==============================] - 0s 69ms/step - loss: 0.6449 - accuracy: 0.7625 - val_loss: 0.6914 - val_accuracy: 0.4625\n",
      "Epoch 13/25\n",
      "1/1 [==============================] - 0s 70ms/step - loss: 0.6414 - accuracy: 0.7656 - val_loss: 0.6916 - val_accuracy: 0.4625\n",
      "Epoch 14/25\n",
      "1/1 [==============================] - 0s 69ms/step - loss: 0.6380 - accuracy: 0.7625 - val_loss: 0.6919 - val_accuracy: 0.4500\n",
      "Epoch 15/25\n",
      "1/1 [==============================] - 0s 71ms/step - loss: 0.6347 - accuracy: 0.7625 - val_loss: 0.6921 - val_accuracy: 0.4750\n",
      "Epoch 16/25\n",
      "1/1 [==============================] - 0s 81ms/step - loss: 0.6314 - accuracy: 0.7688 - val_loss: 0.6923 - val_accuracy: 0.4750\n",
      "Epoch 17/25\n",
      "1/1 [==============================] - 0s 78ms/step - loss: 0.6281 - accuracy: 0.7688 - val_loss: 0.6925 - val_accuracy: 0.4750\n",
      "Epoch 18/25\n",
      "1/1 [==============================] - 0s 83ms/step - loss: 0.6249 - accuracy: 0.7688 - val_loss: 0.6927 - val_accuracy: 0.4750\n",
      "Epoch 19/25\n",
      "1/1 [==============================] - 0s 80ms/step - loss: 0.6218 - accuracy: 0.7688 - val_loss: 0.6929 - val_accuracy: 0.4750\n",
      "Epoch 20/25\n",
      "1/1 [==============================] - 0s 66ms/step - loss: 0.6187 - accuracy: 0.7688 - val_loss: 0.6931 - val_accuracy: 0.4750\n",
      "Epoch 21/25\n",
      "1/1 [==============================] - 0s 67ms/step - loss: 0.6157 - accuracy: 0.7688 - val_loss: 0.6932 - val_accuracy: 0.4750\n",
      "Epoch 22/25\n",
      "1/1 [==============================] - 0s 114ms/step - loss: 0.6127 - accuracy: 0.7688 - val_loss: 0.6934 - val_accuracy: 0.4750\n",
      "Epoch 23/25\n",
      "1/1 [==============================] - 0s 83ms/step - loss: 0.6097 - accuracy: 0.7688 - val_loss: 0.6935 - val_accuracy: 0.5000\n",
      "Epoch 24/25\n",
      "1/1 [==============================] - 0s 70ms/step - loss: 0.6068 - accuracy: 0.7719 - val_loss: 0.6937 - val_accuracy: 0.5000\n",
      "Epoch 25/25\n",
      "1/1 [==============================] - 0s 70ms/step - loss: 0.6039 - accuracy: 0.7688 - val_loss: 0.6938 - val_accuracy: 0.5000\n",
      "total time to predict:-  3.5549325942993164\n"
     ]
    }
   ],
   "source": [
    "model.compile(loss='binary_crossentropy',metrics=['accuracy'])\n",
    "start = time.time()\n",
    "history = model.fit(X_scaled,y,epochs=25,batch_size=320,validation_split=0.2)\n",
    "print('total time to predict:- ',time.time() - start)"
   ]
  },
  {
   "cell_type": "code",
   "execution_count": 38,
   "id": "5a768ae8",
   "metadata": {},
   "outputs": [
    {
     "data": {
      "text/plain": [
       "[<matplotlib.lines.Line2D at 0x1c3f5525880>]"
      ]
     },
     "execution_count": 38,
     "metadata": {},
     "output_type": "execute_result"
    },
    {
     "data": {
      "image/png": "[encoded data removed]",
      "text/plain": [
       "<Figure size 640x480 with 1 Axes>"
      ]
     },
     "metadata": {},
     "output_type": "display_data"
    }
   ],
   "source": [
    "plt.plot(history.history['loss'])\n",
    "plt.plot(history.history['val_loss'])"
   ]
  },
  {
   "cell_type": "markdown",
   "id": "d9d4fa56",
   "metadata": {},
   "source": [
    "# Mini-batch GD ------ batch_size= not 1 and not n,instead of that"
   ]
  },
  {
   "cell_type": "code",
   "execution_count": 39,
   "id": "d10396e1",
   "metadata": {},
   "outputs": [],
   "source": [
    "df2 = pd.read_csv('Social_Network_Ads.csv')"
   ]
  },
  {
   "cell_type": "code",
   "execution_count": 40,
   "id": "09c89664",
   "metadata": {},
   "outputs": [
    {
     "data": {
      "text/html": [
       "<div>\n",
       "<style scoped>\n",
       "    .dataframe tbody tr th:only-of-type {\n",
       "        vertical-align: middle;\n",
       "    }\n",
       "\n",
       "    .dataframe tbody tr th {\n",
       "        vertical-align: top;\n",
       "    }\n",
       "\n",
       "    .dataframe thead th {\n",
       "        text-align: right;\n",
       "    }\n",
       "</style>\n",
       "<table border=\"1\" class=\"dataframe\">\n",
       "  <thead>\n",
       "    <tr style=\"text-align: right;\">\n",
       "      <th></th>\n",
       "      <th>User ID</th>\n",
       "      <th>Gender</th>\n",
       "      <th>Age</th>\n",
       "      <th>EstimatedSalary</th>\n",
       "      <th>Purchased</th>\n",
       "    </tr>\n",
       "  </thead>\n",
       "  <tbody>\n",
       "    <tr>\n",
       "      <th>0</th>\n",
       "      <td>15624510</td>\n",
       "      <td>Male</td>\n",
       "      <td>19</td>\n",
       "      <td>19000</td>\n",
       "      <td>0</td>\n",
       "    </tr>\n",
       "    <tr>\n",
       "      <th>1</th>\n",
       "      <td>15810944</td>\n",
       "      <td>Male</td>\n",
       "      <td>35</td>\n",
       "      <td>20000</td>\n",
       "      <td>0</td>\n",
       "    </tr>\n",
       "    <tr>\n",
       "      <th>2</th>\n",
       "      <td>15668575</td>\n",
       "      <td>Female</td>\n",
       "      <td>26</td>\n",
       "      <td>43000</td>\n",
       "      <td>0</td>\n",
       "    </tr>\n",
       "    <tr>\n",
       "      <th>3</th>\n",
       "      <td>15603246</td>\n",
       "      <td>Female</td>\n",
       "      <td>27</td>\n",
       "      <td>57000</td>\n",
       "      <td>0</td>\n",
       "    </tr>\n",
       "    <tr>\n",
       "      <th>4</th>\n",
       "      <td>15804002</td>\n",
       "      <td>Male</td>\n",
       "      <td>19</td>\n",
       "      <td>76000</td>\n",
       "      <td>0</td>\n",
       "    </tr>\n",
       "  </tbody>\n",
       "</table>\n",
       "</div>"
      ],
      "text/plain": [
       "    User ID  Gender  Age  EstimatedSalary  Purchased\n",
       "0  15624510    Male   19            19000          0\n",
       "1  15810944    Male   35            20000          0\n",
       "2  15668575  Female   26            43000          0\n",
       "3  15603246  Female   27            57000          0\n",
       "4  15804002    Male   19            76000          0"
      ]
     },
     "execution_count": 40,
     "metadata": {},
     "output_type": "execute_result"
    }
   ],
   "source": [
    "df2.head()"
   ]
  },
  {
   "cell_type": "code",
   "execution_count": 41,
   "id": "d6a77cb8",
   "metadata": {},
   "outputs": [],
   "source": [
    "df2 = df2[['Age','EstimatedSalary','Purchased']]"
   ]
  },
  {
   "cell_type": "code",
   "execution_count": 42,
   "id": "cd15d652",
   "metadata": {},
   "outputs": [
    {
     "data": {
      "text/html": [
       "<div>\n",
       "<style scoped>\n",
       "    .dataframe tbody tr th:only-of-type {\n",
       "        vertical-align: middle;\n",
       "    }\n",
       "\n",
       "    .dataframe tbody tr th {\n",
       "        vertical-align: top;\n",
       "    }\n",
       "\n",
       "    .dataframe thead th {\n",
       "        text-align: right;\n",
       "    }\n",
       "</style>\n",
       "<table border=\"1\" class=\"dataframe\">\n",
       "  <thead>\n",
       "    <tr style=\"text-align: right;\">\n",
       "      <th></th>\n",
       "      <th>Age</th>\n",
       "      <th>EstimatedSalary</th>\n",
       "      <th>Purchased</th>\n",
       "    </tr>\n",
       "  </thead>\n",
       "  <tbody>\n",
       "    <tr>\n",
       "      <th>0</th>\n",
       "      <td>19</td>\n",
       "      <td>19000</td>\n",
       "      <td>0</td>\n",
       "    </tr>\n",
       "    <tr>\n",
       "      <th>1</th>\n",
       "      <td>35</td>\n",
       "      <td>20000</td>\n",
       "      <td>0</td>\n",
       "    </tr>\n",
       "    <tr>\n",
       "      <th>2</th>\n",
       "      <td>26</td>\n",
       "      <td>43000</td>\n",
       "      <td>0</td>\n",
       "    </tr>\n",
       "    <tr>\n",
       "      <th>3</th>\n",
       "      <td>27</td>\n",
       "      <td>57000</td>\n",
       "      <td>0</td>\n",
       "    </tr>\n",
       "    <tr>\n",
       "      <th>4</th>\n",
       "      <td>19</td>\n",
       "      <td>76000</td>\n",
       "      <td>0</td>\n",
       "    </tr>\n",
       "  </tbody>\n",
       "</table>\n",
       "</div>"
      ],
      "text/plain": [
       "   Age  EstimatedSalary  Purchased\n",
       "0   19            19000          0\n",
       "1   35            20000          0\n",
       "2   26            43000          0\n",
       "3   27            57000          0\n",
       "4   19            76000          0"
      ]
     },
     "execution_count": 42,
     "metadata": {},
     "output_type": "execute_result"
    }
   ],
   "source": [
    "df2.head()"
   ]
  },
  {
   "cell_type": "code",
   "execution_count": 43,
   "id": "7b99a0dd",
   "metadata": {},
   "outputs": [],
   "source": [
    "X = df2.iloc[:,0:2]\n",
    "y = df2.iloc[:,-1]"
   ]
  },
  {
   "cell_type": "code",
   "execution_count": 44,
   "id": "d8eaeb9d",
   "metadata": {},
   "outputs": [
    {
     "data": {
      "text/html": [
       "<div>\n",
       "<style scoped>\n",
       "    .dataframe tbody tr th:only-of-type {\n",
       "        vertical-align: middle;\n",
       "    }\n",
       "\n",
       "    .dataframe tbody tr th {\n",
       "        vertical-align: top;\n",
       "    }\n",
       "\n",
       "    .dataframe thead th {\n",
       "        text-align: right;\n",
       "    }\n",
       "</style>\n",
       "<table border=\"1\" class=\"dataframe\">\n",
       "  <thead>\n",
       "    <tr style=\"text-align: right;\">\n",
       "      <th></th>\n",
       "      <th>Age</th>\n",
       "      <th>EstimatedSalary</th>\n",
       "    </tr>\n",
       "  </thead>\n",
       "  <tbody>\n",
       "    <tr>\n",
       "      <th>0</th>\n",
       "      <td>19</td>\n",
       "      <td>19000</td>\n",
       "    </tr>\n",
       "    <tr>\n",
       "      <th>1</th>\n",
       "      <td>35</td>\n",
       "      <td>20000</td>\n",
       "    </tr>\n",
       "    <tr>\n",
       "      <th>2</th>\n",
       "      <td>26</td>\n",
       "      <td>43000</td>\n",
       "    </tr>\n",
       "    <tr>\n",
       "      <th>3</th>\n",
       "      <td>27</td>\n",
       "      <td>57000</td>\n",
       "    </tr>\n",
       "    <tr>\n",
       "      <th>4</th>\n",
       "      <td>19</td>\n",
       "      <td>76000</td>\n",
       "    </tr>\n",
       "    <tr>\n",
       "      <th>...</th>\n",
       "      <td>...</td>\n",
       "      <td>...</td>\n",
       "    </tr>\n",
       "    <tr>\n",
       "      <th>395</th>\n",
       "      <td>46</td>\n",
       "      <td>41000</td>\n",
       "    </tr>\n",
       "    <tr>\n",
       "      <th>396</th>\n",
       "      <td>51</td>\n",
       "      <td>23000</td>\n",
       "    </tr>\n",
       "    <tr>\n",
       "      <th>397</th>\n",
       "      <td>50</td>\n",
       "      <td>20000</td>\n",
       "    </tr>\n",
       "    <tr>\n",
       "      <th>398</th>\n",
       "      <td>36</td>\n",
       "      <td>33000</td>\n",
       "    </tr>\n",
       "    <tr>\n",
       "      <th>399</th>\n",
       "      <td>49</td>\n",
       "      <td>36000</td>\n",
       "    </tr>\n",
       "  </tbody>\n",
       "</table>\n",
       "<p>400 rows × 2 columns</p>\n",
       "</div>"
      ],
      "text/plain": [
       "     Age  EstimatedSalary\n",
       "0     19            19000\n",
       "1     35            20000\n",
       "2     26            43000\n",
       "3     27            57000\n",
       "4     19            76000\n",
       "..   ...              ...\n",
       "395   46            41000\n",
       "396   51            23000\n",
       "397   50            20000\n",
       "398   36            33000\n",
       "399   49            36000\n",
       "\n",
       "[400 rows x 2 columns]"
      ]
     },
     "execution_count": 44,
     "metadata": {},
     "output_type": "execute_result"
    }
   ],
   "source": [
    "X"
   ]
  },
  {
   "cell_type": "code",
   "execution_count": 45,
   "id": "99c1bc6b",
   "metadata": {},
   "outputs": [],
   "source": [
    "from sklearn.preprocessing import StandardScaler\n",
    "scaler = StandardScaler()\n",
    "\n",
    "X_scaled = scaler.fit_transform(X)"
   ]
  },
  {
   "cell_type": "code",
   "execution_count": 46,
   "id": "558b133a",
   "metadata": {},
   "outputs": [
    {
     "data": {
      "text/plain": [
       "(400, 2)"
      ]
     },
     "execution_count": 46,
     "metadata": {},
     "output_type": "execute_result"
    }
   ],
   "source": [
    "X_scaled.shape"
   ]
  },
  {
   "cell_type": "code",
   "execution_count": 47,
   "id": "a1916a7d",
   "metadata": {},
   "outputs": [],
   "source": [
    "model = Sequential()\n",
    "\n",
    "model.add(Dense(10,activation='relu',input_dim=2))\n",
    "model.add(Dense(10,activation='relu'))\n",
    "model.add(Dense(1,activation='sigmoid'))"
   ]
  },
  {
   "cell_type": "code",
   "execution_count": 48,
   "id": "96342d62",
   "metadata": {},
   "outputs": [
    {
     "name": "stdout",
     "output_type": "stream",
     "text": [
      "Epoch 1/25\n",
      "10/10 [==============================] - 1s 45ms/step - loss: 0.8127 - accuracy: 0.3125 - val_loss: 0.6062 - val_accuracy: 0.6625\n",
      "Epoch 2/25\n",
      "10/10 [==============================] - 0s 11ms/step - loss: 0.7606 - accuracy: 0.3688 - val_loss: 0.6048 - val_accuracy: 0.6625\n",
      "Epoch 3/25\n",
      "10/10 [==============================] - 0s 12ms/step - loss: 0.7200 - accuracy: 0.4219 - val_loss: 0.6040 - val_accuracy: 0.7000\n",
      "Epoch 4/25\n",
      "10/10 [==============================] - 0s 11ms/step - loss: 0.6865 - accuracy: 0.4719 - val_loss: 0.6019 - val_accuracy: 0.6875\n",
      "Epoch 5/25\n",
      "10/10 [==============================] - 0s 13ms/step - loss: 0.6563 - accuracy: 0.5688 - val_loss: 0.5993 - val_accuracy: 0.7000\n",
      "Epoch 6/25\n",
      "10/10 [==============================] - 0s 12ms/step - loss: 0.6290 - accuracy: 0.7031 - val_loss: 0.5979 - val_accuracy: 0.6875\n",
      "Epoch 7/25\n",
      "10/10 [==============================] - 0s 13ms/step - loss: 0.6034 - accuracy: 0.8250 - val_loss: 0.5967 - val_accuracy: 0.6875\n",
      "Epoch 8/25\n",
      "10/10 [==============================] - 0s 11ms/step - loss: 0.5802 - accuracy: 0.8625 - val_loss: 0.5937 - val_accuracy: 0.6875\n",
      "Epoch 9/25\n",
      "10/10 [==============================] - 0s 13ms/step - loss: 0.5580 - accuracy: 0.8656 - val_loss: 0.5922 - val_accuracy: 0.7000\n",
      "Epoch 10/25\n",
      "10/10 [==============================] - 0s 12ms/step - loss: 0.5370 - accuracy: 0.8625 - val_loss: 0.5909 - val_accuracy: 0.7000\n",
      "Epoch 11/25\n",
      "10/10 [==============================] - 0s 10ms/step - loss: 0.5178 - accuracy: 0.8531 - val_loss: 0.5877 - val_accuracy: 0.7000\n",
      "Epoch 12/25\n",
      "10/10 [==============================] - 0s 9ms/step - loss: 0.5001 - accuracy: 0.8562 - val_loss: 0.5862 - val_accuracy: 0.6875\n",
      "Epoch 13/25\n",
      "10/10 [==============================] - 0s 10ms/step - loss: 0.4835 - accuracy: 0.8500 - val_loss: 0.5825 - val_accuracy: 0.6875\n",
      "Epoch 14/25\n",
      "10/10 [==============================] - 0s 10ms/step - loss: 0.4678 - accuracy: 0.8500 - val_loss: 0.5794 - val_accuracy: 0.6875\n",
      "Epoch 15/25\n",
      "10/10 [==============================] - 0s 10ms/step - loss: 0.4527 - accuracy: 0.8562 - val_loss: 0.5760 - val_accuracy: 0.7000\n",
      "Epoch 16/25\n",
      "10/10 [==============================] - 0s 10ms/step - loss: 0.4383 - accuracy: 0.8562 - val_loss: 0.5717 - val_accuracy: 0.7000\n",
      "Epoch 17/25\n",
      "10/10 [==============================] - 0s 9ms/step - loss: 0.4244 - accuracy: 0.8562 - val_loss: 0.5683 - val_accuracy: 0.7000\n",
      "Epoch 18/25\n",
      "10/10 [==============================] - 0s 10ms/step - loss: 0.4116 - accuracy: 0.8531 - val_loss: 0.5643 - val_accuracy: 0.7000\n",
      "Epoch 19/25\n",
      "10/10 [==============================] - 0s 12ms/step - loss: 0.3993 - accuracy: 0.8531 - val_loss: 0.5586 - val_accuracy: 0.7000\n",
      "Epoch 20/25\n",
      "10/10 [==============================] - 0s 11ms/step - loss: 0.3878 - accuracy: 0.8531 - val_loss: 0.5539 - val_accuracy: 0.7000\n",
      "Epoch 21/25\n",
      "10/10 [==============================] - 0s 11ms/step - loss: 0.3771 - accuracy: 0.8531 - val_loss: 0.5484 - val_accuracy: 0.7000\n",
      "Epoch 22/25\n",
      "10/10 [==============================] - 0s 10ms/step - loss: 0.3667 - accuracy: 0.8562 - val_loss: 0.5430 - val_accuracy: 0.7000\n",
      "Epoch 23/25\n",
      "10/10 [==============================] - 0s 10ms/step - loss: 0.3573 - accuracy: 0.8562 - val_loss: 0.5356 - val_accuracy: 0.7125\n",
      "Epoch 24/25\n",
      "10/10 [==============================] - 0s 11ms/step - loss: 0.3487 - accuracy: 0.8562 - val_loss: 0.5297 - val_accuracy: 0.7125\n",
      "Epoch 25/25\n",
      "10/10 [==============================] - 0s 11ms/step - loss: 0.3408 - accuracy: 0.8562 - val_loss: 0.5213 - val_accuracy: 0.7125\n",
      "total time to predict:-  4.021055459976196\n"
     ]
    }
   ],
   "source": [
    "model.compile(loss='binary_crossentropy',metrics=['accuracy'])\n",
    "start = time.time()\n",
    "history = model.fit(X_scaled,y,epochs=25,batch_size=32,validation_split=0.2)\n",
    "print('total time to predict:- ',time.time() - start)"
   ]
  },
  {
   "cell_type": "code",
   "execution_count": 49,
   "id": "e6b03cde",
   "metadata": {},
   "outputs": [
    {
     "data": {
      "text/plain": [
       "[<matplotlib.lines.Line2D at 0x1c3f66f0280>]"
      ]
     },
     "execution_count": 49,
     "metadata": {},
     "output_type": "execute_result"
    },
    {
     "data": {
      "image/png": "[encoded data removed]",
      "text/plain": [
       "<Figure size 640x480 with 1 Axes>"
      ]
     },
     "metadata": {},
     "output_type": "display_data"
    }
   ],
   "source": [
    "plt.plot(history.history['loss'])\n",
    "plt.plot(history.history['val_loss'])"
   ]
  }
 ],
 "metadata": {
  "kernelspec": {
   "display_name": "Python 3 (ipykernel)",
   "language": "python",
   "name": "python3"
  },
  "language_info": {
   "codemirror_mode": {
    "name": "ipython",
    "version": 3
   },
   "file_extension": ".py",
   "mimetype": "text/x-python",
   "name": "python",
   "nbconvert_exporter": "python",
   "pygments_lexer": "ipython3",
   "version": "3.9.13"
  }
 },
 "nbformat": 4,
 "nbformat_minor": 5
}
