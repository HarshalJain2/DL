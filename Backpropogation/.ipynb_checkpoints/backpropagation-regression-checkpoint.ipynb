{
 "cells": [
  {
   "cell_type": "code",
   "execution_count": 2,
   "id": "f44b5712",
   "metadata": {},
   "outputs": [],
   "source": [
    "import numpy as np\n",
    "import pandas as pd"
   ]
  },
  {
   "cell_type": "code",
   "execution_count": 3,
   "id": "33f4f667",
   "metadata": {},
   "outputs": [],
   "source": [
    "df = pd.DataFrame([[8,8,4],[7,9,5],[6,10,6],[5,12,7]], columns=['cgpa', 'profile_score', 'lpa'])"
   ]
  },
  {
   "cell_type": "code",
   "execution_count": 4,
   "id": "eb04747f",
   "metadata": {},
   "outputs": [
    {
     "data": {
      "text/html": [
       "<div>\n",
       "<style scoped>\n",
       "    .dataframe tbody tr th:only-of-type {\n",
       "        vertical-align: middle;\n",
       "    }\n",
       "\n",
       "    .dataframe tbody tr th {\n",
       "        vertical-align: top;\n",
       "    }\n",
       "\n",
       "    .dataframe thead th {\n",
       "        text-align: right;\n",
       "    }\n",
       "</style>\n",
       "<table border=\"1\" class=\"dataframe\">\n",
       "  <thead>\n",
       "    <tr style=\"text-align: right;\">\n",
       "      <th></th>\n",
       "      <th>cgpa</th>\n",
       "      <th>profile_score</th>\n",
       "      <th>lpa</th>\n",
       "    </tr>\n",
       "  </thead>\n",
       "  <tbody>\n",
       "    <tr>\n",
       "      <th>0</th>\n",
       "      <td>8</td>\n",
       "      <td>8</td>\n",
       "      <td>4</td>\n",
       "    </tr>\n",
       "    <tr>\n",
       "      <th>1</th>\n",
       "      <td>7</td>\n",
       "      <td>9</td>\n",
       "      <td>5</td>\n",
       "    </tr>\n",
       "    <tr>\n",
       "      <th>2</th>\n",
       "      <td>6</td>\n",
       "      <td>10</td>\n",
       "      <td>6</td>\n",
       "    </tr>\n",
       "    <tr>\n",
       "      <th>3</th>\n",
       "      <td>5</td>\n",
       "      <td>12</td>\n",
       "      <td>7</td>\n",
       "    </tr>\n",
       "  </tbody>\n",
       "</table>\n",
       "</div>"
      ],
      "text/plain": [
       "   cgpa  profile_score  lpa\n",
       "0     8              8    4\n",
       "1     7              9    5\n",
       "2     6             10    6\n",
       "3     5             12    7"
      ]
     },
     "execution_count": 4,
     "metadata": {},
     "output_type": "execute_result"
    }
   ],
   "source": [
    "df"
   ]
  },
  {
   "cell_type": "code",
   "execution_count": 4,
   "id": "89449779",
   "metadata": {},
   "outputs": [],
   "source": [
    "def initialize_parameters(layer_dims):                    # here we have to give the architecture \n",
    "                                                          # we have to input here number of nodes in layer \n",
    "    np.random.seed(3)                 # like 2 features cgpa and profile_score (input layer) for that 2 biases (in hidden layer) \n",
    "    parameters = {}                   # 1 bias at output layer so my layer_dims in this case is [2,2,1]\n",
    "    L = len(layer_dims)         \n",
    "\n",
    "    for l in range(1, L):\n",
    "\n",
    "        parameters['W' + str(l)] = np.ones((layer_dims[l-1], layer_dims[l]))*0.1\n",
    "        parameters['b' + str(l)] = np.zeros((layer_dims[l], 1))\n",
    "      \n",
    "\n",
    "    return parameters"
   ]
  },
  {
   "cell_type": "code",
   "execution_count": 5,
   "id": "44ed6565",
   "metadata": {},
   "outputs": [
    {
     "data": {
      "text/plain": [
       "{'W1': array([[0.1, 0.1],\n",
       "        [0.1, 0.1]]),\n",
       " 'b1': array([[0.],\n",
       "        [0.]]),\n",
       " 'W2': array([[0.1],\n",
       "        [0.1]]),\n",
       " 'b2': array([[0.]])}"
      ]
     },
     "execution_count": 5,
     "metadata": {},
     "output_type": "execute_result"
    }
   ],
   "source": [
    "initialize_parameters([2,2,1])"
   ]
  },
  {
   "cell_type": "code",
   "execution_count": 6,
   "id": "3b6cc6d4",
   "metadata": {},
   "outputs": [],
   "source": [
    "def linear_forward(A_prev, W, b):    \n",
    "    Z = np.dot(W.T, A_prev) + b\n",
    "    return Z"
   ]
  },
  {
   "cell_type": "code",
   "execution_count": 7,
   "id": "ecbe2714",
   "metadata": {},
   "outputs": [],
   "source": [
    "# Forward Prop\n",
    "def L_layer_forward(X, parameters):\n",
    "    A = X\n",
    "    L = len(parameters) // 2                  # number of layers in the neural network\n",
    "\n",
    "    \n",
    "    for l in range(1, L+1):\n",
    "        A_prev = A \n",
    "        Wl = parameters['W' + str(l)]\n",
    "        bl = parameters['b' + str(l)]\n",
    "#         print(\"A\"+str(l-1)+\": \", A_prev)\n",
    "#         print(\"W\"+str(l)+\": \", Wl)\n",
    "#         print(\"b\"+str(l)+\": \", bl)\n",
    "#         print(\"--\"*20)\n",
    "\n",
    "    A = linear_forward(A_prev, Wl, bl)\n",
    "#     print(\"A\"+str(l)+\": \", A)\n",
    "#     print(\"**\"*20)\n",
    "    return A,A_prev"
   ]
  },
  {
   "cell_type": "code",
   "execution_count": 8,
   "id": "819eb332",
   "metadata": {},
   "outputs": [],
   "source": [
    "X = df[['cgpa', 'profile_score']].values[0].reshape(2,1) # Shape(no of features, no. of training example)\n",
    "y = df[['lpa']].values[0][0]\n",
    "\n",
    "# Parameter initialization\n",
    "parameters = initialize_parameters([2,2,1])\n",
    "\n",
    "y_hat,A1 = L_layer_forward(X, parameters)"
   ]
  },
  {
   "cell_type": "code",
   "execution_count": 9,
   "id": "074c9fdf",
   "metadata": {},
   "outputs": [],
   "source": [
    " y_hat = y_hat[0][0]"
   ]
  },
  {
   "cell_type": "code",
   "execution_count": 10,
   "id": "5cad7c35",
   "metadata": {},
   "outputs": [
    {
     "data": {
      "text/plain": [
       "array([[8],\n",
       "       [8]], dtype=int64)"
      ]
     },
     "execution_count": 10,
     "metadata": {},
     "output_type": "execute_result"
    }
   ],
   "source": [
    "A1"
   ]
  },
  {
   "cell_type": "code",
   "execution_count": 11,
   "id": "8a266433",
   "metadata": {},
   "outputs": [],
   "source": [
    "def update_parameters(parameters,y,y_hat,A1,X):\n",
    "    parameters['W2'][0][0] = parameters['W2'][0][0] + (0.001 * 2 * (y - y_hat)*A1[0][0])\n",
    "    parameters['W2'][1][0] = parameters['W2'][1][0] + (0.001 * 2 * (y - y_hat)*A1[1][0])\n",
    "    parameters['b2'][0][0] = parameters['W2'][1][0] + (0.001 * 2 * (y - y_hat))\n",
    "\n",
    "    parameters['W1'][0][0] = parameters['W1'][0][0] + (0.001 * 2 * (y - y_hat)*parameters['W2'][0][0]*X[0][0])\n",
    "    parameters['W1'][0][1] = parameters['W1'][0][1] + (0.001 * 2 * (y - y_hat)*parameters['W2'][0][0]*X[1][0])\n",
    "    parameters['b1'][0][0] = parameters['b1'][0][0] + (0.001 * 2 * (y - y_hat)*parameters['W2'][0][0])\n",
    "\n",
    "    parameters['W1'][1][0] = parameters['W1'][1][0] + (0.001 * 2 * (y - y_hat)*parameters['W2'][1][0]*X[0][0])\n",
    "    parameters['W1'][1][1] = parameters['W1'][1][1] + (0.001 * 2 * (y - y_hat)*parameters['W2'][1][0]*X[1][0])\n",
    "    parameters['b1'][1][0] = parameters['b1'][1][0] + (0.001 * 2 * (y - y_hat)*parameters['W2'][1][0])"
   ]
  },
  {
   "cell_type": "code",
   "execution_count": 12,
   "id": "d55352b6",
   "metadata": {},
   "outputs": [
    {
     "data": {
      "text/plain": [
       "{'W1': array([[0.10531456, 0.10531456],\n",
       "        [0.10531456, 0.10531456]]),\n",
       " 'b1': array([[0.00066432],\n",
       "        [0.00066432]]),\n",
       " 'W2': array([[0.1384],\n",
       "        [0.1384]]),\n",
       " 'b2': array([[0.1432]])}"
      ]
     },
     "execution_count": 12,
     "metadata": {},
     "output_type": "execute_result"
    }
   ],
   "source": [
    "X = df[['cgpa', 'profile_score']].values[0].reshape(2,1) # Shape(no of features, no. of training example)\n",
    "y = df[['lpa']].values[0][0]\n",
    "\n",
    "# Parameter initialization\n",
    "parameters = initialize_parameters([2,2,1])\n",
    "\n",
    "y_hat,A1 = L_layer_forward(X,parameters)\n",
    "y_hat = y_hat[0][0]\n",
    "\n",
    "update_parameters(parameters,y,y_hat,A1,X)\n",
    "\n",
    "parameters"
   ]
  },
  {
   "cell_type": "code",
   "execution_count": null,
   "id": "bb341b57",
   "metadata": {},
   "outputs": [],
   "source": []
  },
  {
   "cell_type": "code",
   "execution_count": 13,
   "id": "286fa892",
   "metadata": {},
   "outputs": [
    {
     "data": {
      "text/plain": [
       "{'W1': array([[0.111803  , 0.11365684],\n",
       "        [0.11219401, 0.11415956]]),\n",
       " 'b1': array([[0.00159124],\n",
       "        [0.0016471 ]]),\n",
       " 'W2': array([[0.1753936],\n",
       "        [0.1859632]]),\n",
       " 'b2': array([[0.191248]])}"
      ]
     },
     "execution_count": 13,
     "metadata": {},
     "output_type": "execute_result"
    }
   ],
   "source": [
    "X = df[['cgpa', 'profile_score']].values[1].reshape(2,1) # Shape(no of features, no. of training exaplme)\n",
    "y = df[['lpa']].values[1][0]\n",
    "\n",
    "y_hat,A1 = L_layer_forward(X,parameters)\n",
    "y_hat = y_hat[0][0]\n",
    "\n",
    "update_parameters(parameters,y,y_hat,A1,X)\n",
    "\n",
    "parameters"
   ]
  },
  {
   "cell_type": "code",
   "execution_count": 14,
   "id": "8a0a634d",
   "metadata": {},
   "outputs": [
    {
     "data": {
      "text/plain": [
       "{'W1': array([[0.11910821, 0.12583219],\n",
       "        [0.12067218, 0.12828986]]),\n",
       " 'b1': array([[0.00280877],\n",
       "        [0.00306013]]),\n",
       " 'W2': array([[0.2101547 ],\n",
       "        [0.24389837]]),\n",
       " 'b2': array([[0.24969188]])}"
      ]
     },
     "execution_count": 14,
     "metadata": {},
     "output_type": "execute_result"
    }
   ],
   "source": [
    "X = df[['cgpa', 'profile_score']].values[2].reshape(2,1) # Shape(no of features, no. of training exaplme)\n",
    "y = df[['lpa']].values[2][0]\n",
    "\n",
    "y_hat,A1 = L_layer_forward(X,parameters)\n",
    "y_hat = y_hat[0][0]\n",
    "\n",
    "update_parameters(parameters,y,y_hat,A1,X)\n",
    "\n",
    "parameters"
   ]
  },
  {
   "cell_type": "code",
   "execution_count": 15,
   "id": "d8b98f55",
   "metadata": {},
   "outputs": [
    {
     "data": {
      "text/plain": [
       "{'W1': array([[0.1257041 , 0.14166232],\n",
       "        [0.12928005, 0.14894873]]),\n",
       " 'b1': array([[0.00412795],\n",
       "        [0.0047817 ]]),\n",
       " 'W2': array([[0.23788224],\n",
       "        [0.31044447]]),\n",
       " 'b2': array([[0.31598998]])}"
      ]
     },
     "execution_count": 15,
     "metadata": {},
     "output_type": "execute_result"
    }
   ],
   "source": [
    "X = df[['cgpa', 'profile_score']].values[3].reshape(2,1) # Shape(no of features, no. of training exaplme)\n",
    "y = df[['lpa']].values[3][0]\n",
    "\n",
    "y_hat,A1 = L_layer_forward(X,parameters)\n",
    "y_hat = y_hat[0][0]\n",
    "\n",
    "update_parameters(parameters,y,y_hat,A1,X)\n",
    "\n",
    "parameters"
   ]
  },
  {
   "cell_type": "code",
   "execution_count": 16,
   "id": "62f0e634",
   "metadata": {
    "scrolled": false
   },
   "outputs": [
    {
     "name": "stdout",
     "output_type": "stream",
     "text": [
      "Epoch -  1 Loss -  7.205413203742441\n",
      "Epoch -  2 Loss -  1.0733686445728834\n",
      "Epoch -  3 Loss -  0.9583801635331537\n",
      "Epoch -  4 Loss -  0.9721506091746084\n",
      "Epoch -  5 Loss -  0.9426118575983916\n"
     ]
    },
    {
     "data": {
      "text/plain": [
       "{'W1': array([[0.12725374, 0.1655921 ],\n",
       "        [0.13084979, 0.18399961]]),\n",
       " 'b1': array([[0.00557808],\n",
       "        [0.00685475]]),\n",
       " 'W2': array([[0.23838014],\n",
       "        [0.40037638]]),\n",
       " 'b2': array([[0.40226313]])}"
      ]
     },
     "execution_count": 16,
     "metadata": {},
     "output_type": "execute_result"
    }
   ],
   "source": [
    "# epochs implementation\n",
    "\n",
    "parameters = initialize_parameters([2,2,1])\n",
    "epochs = 5\n",
    "\n",
    "for i in range(epochs):\n",
    "\n",
    "  Loss = []\n",
    "\n",
    "  for j in range(df.shape[0]):\n",
    "\n",
    "    X = df[['cgpa', 'profile_score']].values[j].reshape(2,1) # Shape(no of features, no. of training example)\n",
    "    y = df[['lpa']].values[j][0]\n",
    "\n",
    "    # Parameter initialization\n",
    "\n",
    "\n",
    "    y_hat,A1 = L_layer_forward(X,parameters)\n",
    "    y_hat = y_hat[0][0]\n",
    "\n",
    "    update_parameters(parameters,y,y_hat,A1,X)\n",
    "\n",
    "    Loss.append((y-y_hat)**2)\n",
    "\n",
    "  print('Epoch - ',i+1,'Loss - ',np.array(Loss).mean())\n",
    "\n",
    "parameters"
   ]
  },
  {
   "cell_type": "code",
   "execution_count": null,
   "id": "085065bc",
   "metadata": {},
   "outputs": [],
   "source": []
  },
  {
   "cell_type": "markdown",
   "id": "d3018858",
   "metadata": {},
   "source": [
    "# Using KERAS LIBLARY"
   ]
  },
  {
   "cell_type": "code",
   "execution_count": 5,
   "id": "3f042c0c",
   "metadata": {},
   "outputs": [],
   "source": [
    "import tensorflow\n",
    "from tensorflow import keras\n",
    "from keras import Sequential\n",
    "from keras.layers import Dense"
   ]
  },
  {
   "cell_type": "code",
   "execution_count": 6,
   "id": "db0445f6",
   "metadata": {},
   "outputs": [],
   "source": [
    "model=Sequential()\n",
    "model.add(Dense(2,activation='linear',input_dim=2))\n",
    "model.add(Dense(1, activation='linear'))"
   ]
  },
  {
   "cell_type": "code",
   "execution_count": 7,
   "id": "04351b09",
   "metadata": {},
   "outputs": [
    {
     "name": "stdout",
     "output_type": "stream",
     "text": [
      "Model: \"sequential\"\n",
      "_________________________________________________________________\n",
      " Layer (type)                Output Shape              Param #   \n",
      "=================================================================\n",
      " dense (Dense)               (None, 2)                 6         \n",
      "                                                                 \n",
      " dense_1 (Dense)             (None, 1)                 3         \n",
      "                                                                 \n",
      "=================================================================\n",
      "Total params: 9 (36.00 Byte)\n",
      "Trainable params: 9 (36.00 Byte)\n",
      "Non-trainable params: 0 (0.00 Byte)\n",
      "_________________________________________________________________\n"
     ]
    }
   ],
   "source": [
    "model.summary()"
   ]
  },
  {
   "cell_type": "code",
   "execution_count": 8,
   "id": "d030a5b5",
   "metadata": {},
   "outputs": [
    {
     "data": {
      "text/plain": [
       "[array([[ 0.20789397, -0.53463775],\n",
       "        [ 1.2062763 , -0.44416827]], dtype=float32),\n",
       " array([0., 0.], dtype=float32),\n",
       " array([[ 0.4501021],\n",
       "        [-0.5409305]], dtype=float32),\n",
       " array([0.], dtype=float32)]"
      ]
     },
     "execution_count": 8,
     "metadata": {},
     "output_type": "execute_result"
    }
   ],
   "source": [
    "model.get_weights()"
   ]
  },
  {
   "cell_type": "code",
   "execution_count": 21,
   "id": "690d56d1",
   "metadata": {},
   "outputs": [],
   "source": [
    "new_weights=[np.array([[0.1 ,0.1],[0.1 ,0.1]]),        # for initial weight keras select randomly but we choose this bcz in manual cal we choose this weights and bias\n",
    "             np.array([0., 0.]),\n",
    "             np.array([[0.1],[0.1]]),\n",
    "             np.array([0.])]                    # for similarity pupose\n"
   ]
  },
  {
   "cell_type": "code",
   "execution_count": 22,
   "id": "8e0c7c64",
   "metadata": {},
   "outputs": [],
   "source": [
    "model.set_weights(new_weights)"
   ]
  },
  {
   "cell_type": "code",
   "execution_count": 11,
   "id": "fe9010b1",
   "metadata": {},
   "outputs": [
    {
     "data": {
      "text/plain": [
       "[array([[ 0.20789397, -0.53463775],\n",
       "        [ 1.2062763 , -0.44416827]], dtype=float32),\n",
       " array([0., 0.], dtype=float32),\n",
       " array([[ 0.4501021],\n",
       "        [-0.5409305]], dtype=float32),\n",
       " array([0.], dtype=float32)]"
      ]
     },
     "execution_count": 11,
     "metadata": {},
     "output_type": "execute_result"
    }
   ],
   "source": [
    "model.get_weights()"
   ]
  },
  {
   "cell_type": "code",
   "execution_count": 10,
   "id": "d62e9f6a",
   "metadata": {},
   "outputs": [],
   "source": [
    "optimizer=keras.optimizers.Adam(learning_rate=0.001)\n",
    "model.compile(loss='mean_squared_error',optimizer=optimizer)"
   ]
  },
  {
   "cell_type": "code",
   "execution_count": 12,
   "id": "780c1c68",
   "metadata": {},
   "outputs": [
    {
     "name": "stdout",
     "output_type": "stream",
     "text": [
      "Epoch 1/75\n",
      "4/4 [==============================] - 1s 9ms/step - loss: 21.0545\n",
      "Epoch 2/75\n",
      "4/4 [==============================] - 0s 8ms/step - loss: 19.6780\n",
      "Epoch 3/75\n",
      "4/4 [==============================] - 0s 5ms/step - loss: 18.3669\n",
      "Epoch 4/75\n",
      "4/4 [==============================] - 0s 4ms/step - loss: 17.1352\n",
      "Epoch 5/75\n",
      "4/4 [==============================] - 0s 5ms/step - loss: 15.9353\n",
      "Epoch 6/75\n",
      "4/4 [==============================] - 0s 6ms/step - loss: 14.8541\n",
      "Epoch 7/75\n",
      "4/4 [==============================] - 0s 9ms/step - loss: 13.7970\n",
      "Epoch 8/75\n",
      "4/4 [==============================] - 0s 5ms/step - loss: 12.7998\n",
      "Epoch 9/75\n",
      "4/4 [==============================] - 0s 6ms/step - loss: 11.8724\n",
      "Epoch 10/75\n",
      "4/4 [==============================] - 0s 5ms/step - loss: 10.9806\n",
      "Epoch 11/75\n",
      "4/4 [==============================] - 0s 5ms/step - loss: 10.1997\n",
      "Epoch 12/75\n",
      "4/4 [==============================] - 0s 4ms/step - loss: 9.4625\n",
      "Epoch 13/75\n",
      "4/4 [==============================] - 0s 6ms/step - loss: 8.7542\n",
      "Epoch 14/75\n",
      "4/4 [==============================] - 0s 4ms/step - loss: 8.0939\n",
      "Epoch 15/75\n",
      "4/4 [==============================] - 0s 3ms/step - loss: 7.4887\n",
      "Epoch 16/75\n",
      "4/4 [==============================] - 0s 5ms/step - loss: 6.9436\n",
      "Epoch 17/75\n",
      "4/4 [==============================] - 0s 5ms/step - loss: 6.4211\n",
      "Epoch 18/75\n",
      "4/4 [==============================] - 0s 5ms/step - loss: 5.9525\n",
      "Epoch 19/75\n",
      "4/4 [==============================] - 0s 4ms/step - loss: 5.4765\n",
      "Epoch 20/75\n",
      "4/4 [==============================] - 0s 5ms/step - loss: 5.0701\n",
      "Epoch 21/75\n",
      "4/4 [==============================] - 0s 6ms/step - loss: 4.6950\n",
      "Epoch 22/75\n",
      "4/4 [==============================] - 0s 6ms/step - loss: 4.3515\n",
      "Epoch 23/75\n",
      "4/4 [==============================] - 0s 5ms/step - loss: 4.0277\n",
      "Epoch 24/75\n",
      "4/4 [==============================] - 0s 5ms/step - loss: 3.7411\n",
      "Epoch 25/75\n",
      "4/4 [==============================] - 0s 4ms/step - loss: 3.4588\n",
      "Epoch 26/75\n",
      "4/4 [==============================] - 0s 3ms/step - loss: 3.1688\n",
      "Epoch 27/75\n",
      "4/4 [==============================] - 0s 5ms/step - loss: 2.9600\n",
      "Epoch 28/75\n",
      "4/4 [==============================] - 0s 5ms/step - loss: 2.7522\n",
      "Epoch 29/75\n",
      "4/4 [==============================] - 0s 5ms/step - loss: 2.5413\n",
      "Epoch 30/75\n",
      "4/4 [==============================] - 0s 8ms/step - loss: 2.3508\n",
      "Epoch 31/75\n",
      "4/4 [==============================] - 0s 5ms/step - loss: 2.1954\n",
      "Epoch 32/75\n",
      "4/4 [==============================] - 0s 5ms/step - loss: 2.0356\n",
      "Epoch 33/75\n",
      "4/4 [==============================] - 0s 6ms/step - loss: 1.8948\n",
      "Epoch 34/75\n",
      "4/4 [==============================] - 0s 6ms/step - loss: 1.7692\n",
      "Epoch 35/75\n",
      "4/4 [==============================] - 0s 5ms/step - loss: 1.6422\n",
      "Epoch 36/75\n",
      "4/4 [==============================] - 0s 5ms/step - loss: 1.5446\n",
      "Epoch 37/75\n",
      "4/4 [==============================] - 0s 5ms/step - loss: 1.4279\n",
      "Epoch 38/75\n",
      "4/4 [==============================] - 0s 5ms/step - loss: 1.3583\n",
      "Epoch 39/75\n",
      "4/4 [==============================] - 0s 3ms/step - loss: 1.2723\n",
      "Epoch 40/75\n",
      "4/4 [==============================] - 0s 4ms/step - loss: 1.1881\n",
      "Epoch 41/75\n",
      "4/4 [==============================] - 0s 5ms/step - loss: 1.1115\n",
      "Epoch 42/75\n",
      "4/4 [==============================] - 0s 5ms/step - loss: 1.0508\n",
      "Epoch 43/75\n",
      "4/4 [==============================] - 0s 6ms/step - loss: 0.9940\n",
      "Epoch 44/75\n",
      "4/4 [==============================] - 0s 5ms/step - loss: 0.9533\n",
      "Epoch 45/75\n",
      "4/4 [==============================] - 0s 5ms/step - loss: 0.9020\n",
      "Epoch 46/75\n",
      "4/4 [==============================] - 0s 2ms/step - loss: 0.8474\n",
      "Epoch 47/75\n",
      "4/4 [==============================] - 0s 5ms/step - loss: 0.8071\n",
      "Epoch 48/75\n",
      "4/4 [==============================] - 0s 5ms/step - loss: 0.7782\n",
      "Epoch 49/75\n",
      "4/4 [==============================] - 0s 3ms/step - loss: 0.7482\n",
      "Epoch 50/75\n",
      "4/4 [==============================] - 0s 4ms/step - loss: 0.7129\n",
      "Epoch 51/75\n",
      "4/4 [==============================] - 0s 5ms/step - loss: 0.6840\n",
      "Epoch 52/75\n",
      "4/4 [==============================] - 0s 6ms/step - loss: 0.6556\n",
      "Epoch 53/75\n",
      "4/4 [==============================] - 0s 3ms/step - loss: 0.6383\n",
      "Epoch 54/75\n",
      "4/4 [==============================] - 0s 5ms/step - loss: 0.6207\n",
      "Epoch 55/75\n",
      "4/4 [==============================] - 0s 2ms/step - loss: 0.6067\n",
      "Epoch 56/75\n",
      "4/4 [==============================] - 0s 3ms/step - loss: 0.5872\n",
      "Epoch 57/75\n",
      "4/4 [==============================] - 0s 3ms/step - loss: 0.5670\n",
      "Epoch 58/75\n",
      "4/4 [==============================] - 0s 4ms/step - loss: 0.5542\n",
      "Epoch 59/75\n",
      "4/4 [==============================] - 0s 3ms/step - loss: 0.5444\n",
      "Epoch 60/75\n",
      "4/4 [==============================] - 0s 4ms/step - loss: 0.5269\n",
      "Epoch 61/75\n",
      "4/4 [==============================] - 0s 2ms/step - loss: 0.5266\n",
      "Epoch 62/75\n",
      "4/4 [==============================] - 0s 3ms/step - loss: 0.5110\n",
      "Epoch 63/75\n",
      "4/4 [==============================] - 0s 4ms/step - loss: 0.5068\n",
      "Epoch 64/75\n",
      "4/4 [==============================] - 0s 3ms/step - loss: 0.4954\n",
      "Epoch 65/75\n",
      "4/4 [==============================] - 0s 5ms/step - loss: 0.4868\n",
      "Epoch 66/75\n",
      "4/4 [==============================] - 0s 5ms/step - loss: 0.4820\n",
      "Epoch 67/75\n",
      "4/4 [==============================] - 0s 5ms/step - loss: 0.4778\n",
      "Epoch 68/75\n",
      "4/4 [==============================] - 0s 3ms/step - loss: 0.4739\n",
      "Epoch 69/75\n",
      "4/4 [==============================] - 0s 5ms/step - loss: 0.4671\n",
      "Epoch 70/75\n",
      "4/4 [==============================] - 0s 5ms/step - loss: 0.4662\n",
      "Epoch 71/75\n",
      "4/4 [==============================] - 0s 5ms/step - loss: 0.4627\n",
      "Epoch 72/75\n",
      "4/4 [==============================] - 0s 5ms/step - loss: 0.4585\n",
      "Epoch 73/75\n",
      "4/4 [==============================] - 0s 5ms/step - loss: 0.4546\n",
      "Epoch 74/75\n",
      "4/4 [==============================] - 0s 5ms/step - loss: 0.4512\n",
      "Epoch 75/75\n",
      "4/4 [==============================] - 0s 5ms/step - loss: 0.4489\n"
     ]
    },
    {
     "data": {
      "text/plain": [
       "<keras.src.callbacks.History at 0x237524ff190>"
      ]
     },
     "execution_count": 12,
     "metadata": {},
     "output_type": "execute_result"
    }
   ],
   "source": [
    "model.fit(df.iloc[:,0:-1].values,df['lpa'].values,epochs=75,verbose=1,batch_size=1)"
   ]
  },
  {
   "cell_type": "code",
   "execution_count": null,
   "id": "7bb5cd85",
   "metadata": {},
   "outputs": [],
   "source": []
  },
  {
   "cell_type": "code",
   "execution_count": null,
   "id": "be82a3b8",
   "metadata": {},
   "outputs": [],
   "source": []
  },
  {
   "cell_type": "markdown",
   "id": "88faebfa",
   "metadata": {},
   "source": [
    "# Using Model Random weights value- but Run one at a time like use model initialize weight otherwise updated weight"
   ]
  },
  {
   "cell_type": "code",
   "execution_count": 26,
   "id": "53882887",
   "metadata": {},
   "outputs": [],
   "source": [
    "model=Sequential()\n",
    "model.add(Dense(2,activation='linear',input_dim=2))\n",
    "model.add(Dense(1, activation='linear'))"
   ]
  },
  {
   "cell_type": "code",
   "execution_count": 27,
   "id": "dd75cd5e",
   "metadata": {},
   "outputs": [
    {
     "name": "stdout",
     "output_type": "stream",
     "text": [
      "Model: \"sequential_1\"\n",
      "_________________________________________________________________\n",
      " Layer (type)                Output Shape              Param #   \n",
      "=================================================================\n",
      " dense_2 (Dense)             (None, 2)                 6         \n",
      "                                                                 \n",
      " dense_3 (Dense)             (None, 1)                 3         \n",
      "                                                                 \n",
      "=================================================================\n",
      "Total params: 9 (36.00 Byte)\n",
      "Trainable params: 9 (36.00 Byte)\n",
      "Non-trainable params: 0 (0.00 Byte)\n",
      "_________________________________________________________________\n"
     ]
    }
   ],
   "source": [
    "model.summary()"
   ]
  },
  {
   "cell_type": "code",
   "execution_count": 28,
   "id": "073adc3c",
   "metadata": {},
   "outputs": [
    {
     "data": {
      "text/plain": [
       "[array([[ 0.9618627 , -0.82366014],\n",
       "        [-0.46229863,  0.9411477 ]], dtype=float32),\n",
       " array([0., 0.], dtype=float32),\n",
       " array([[0.654688 ],\n",
       "        [1.0394408]], dtype=float32),\n",
       " array([0.], dtype=float32)]"
      ]
     },
     "execution_count": 28,
     "metadata": {},
     "output_type": "execute_result"
    }
   ],
   "source": [
    "model.get_weights()"
   ]
  },
  {
   "cell_type": "code",
   "execution_count": 32,
   "id": "b7c5ed3b",
   "metadata": {},
   "outputs": [],
   "source": [
    "optimizer=keras.optimizers.Adam(learning_rate=0.001)\n",
    "model.compile(loss='mean_squared_error',optimizer=optimizer)"
   ]
  },
  {
   "cell_type": "code",
   "execution_count": 13,
   "id": "9e2656f9",
   "metadata": {},
   "outputs": [
    {
     "name": "stdout",
     "output_type": "stream",
     "text": [
      "Epoch 1/100\n",
      "4/4 [==============================] - 0s 5ms/step - loss: 0.4500\n",
      "Epoch 2/100\n",
      "4/4 [==============================] - 0s 5ms/step - loss: 0.4434\n",
      "Epoch 3/100\n",
      "4/4 [==============================] - 0s 6ms/step - loss: 0.4450\n",
      "Epoch 4/100\n",
      "4/4 [==============================] - 0s 5ms/step - loss: 0.4408\n",
      "Epoch 5/100\n",
      "4/4 [==============================] - 0s 5ms/step - loss: 0.4420\n",
      "Epoch 6/100\n",
      "4/4 [==============================] - 0s 3ms/step - loss: 0.4375\n",
      "Epoch 7/100\n",
      "4/4 [==============================] - 0s 3ms/step - loss: 0.4368\n",
      "Epoch 8/100\n",
      "4/4 [==============================] - 0s 4ms/step - loss: 0.4355\n",
      "Epoch 9/100\n",
      "4/4 [==============================] - 0s 5ms/step - loss: 0.4364\n",
      "Epoch 10/100\n",
      "4/4 [==============================] - 0s 5ms/step - loss: 0.4333\n",
      "Epoch 11/100\n",
      "4/4 [==============================] - 0s 5ms/step - loss: 0.4334\n",
      "Epoch 12/100\n",
      "4/4 [==============================] - 0s 5ms/step - loss: 0.4308\n",
      "Epoch 13/100\n",
      "4/4 [==============================] - 0s 5ms/step - loss: 0.4296\n",
      "Epoch 14/100\n",
      "4/4 [==============================] - 0s 3ms/step - loss: 0.4295\n",
      "Epoch 15/100\n",
      "4/4 [==============================] - 0s 3ms/step - loss: 0.4292\n",
      "Epoch 16/100\n",
      "4/4 [==============================] - 0s 5ms/step - loss: 0.4283\n",
      "Epoch 17/100\n",
      "4/4 [==============================] - 0s 5ms/step - loss: 0.4262\n",
      "Epoch 18/100\n",
      "4/4 [==============================] - 0s 5ms/step - loss: 0.4265\n",
      "Epoch 19/100\n",
      "4/4 [==============================] - 0s 5ms/step - loss: 0.4274\n",
      "Epoch 20/100\n",
      "4/4 [==============================] - 0s 5ms/step - loss: 0.4251\n",
      "Epoch 21/100\n",
      "4/4 [==============================] - 0s 5ms/step - loss: 0.4241\n",
      "Epoch 22/100\n",
      "4/4 [==============================] - 0s 5ms/step - loss: 0.4230\n",
      "Epoch 23/100\n",
      "4/4 [==============================] - 0s 5ms/step - loss: 0.4229\n",
      "Epoch 24/100\n",
      "4/4 [==============================] - 0s 3ms/step - loss: 0.4231\n",
      "Epoch 25/100\n",
      "4/4 [==============================] - 0s 3ms/step - loss: 0.4212\n",
      "Epoch 26/100\n",
      "4/4 [==============================] - 0s 5ms/step - loss: 0.4210\n",
      "Epoch 27/100\n",
      "4/4 [==============================] - 0s 8ms/step - loss: 0.4195\n",
      "Epoch 28/100\n",
      "4/4 [==============================] - 0s 5ms/step - loss: 0.4200\n",
      "Epoch 29/100\n",
      "4/4 [==============================] - 0s 3ms/step - loss: 0.4201\n",
      "Epoch 30/100\n",
      "4/4 [==============================] - 0s 3ms/step - loss: 0.4191\n",
      "Epoch 31/100\n",
      "4/4 [==============================] - 0s 5ms/step - loss: 0.4183\n",
      "Epoch 32/100\n",
      "4/4 [==============================] - 0s 7ms/step - loss: 0.4173\n",
      "Epoch 33/100\n",
      "4/4 [==============================] - 0s 3ms/step - loss: 0.4160\n",
      "Epoch 34/100\n",
      "4/4 [==============================] - 0s 3ms/step - loss: 0.4172\n",
      "Epoch 35/100\n",
      "4/4 [==============================] - 0s 3ms/step - loss: 0.4147\n",
      "Epoch 36/100\n",
      "4/4 [==============================] - 0s 5ms/step - loss: 0.4146\n",
      "Epoch 37/100\n",
      "4/4 [==============================] - 0s 5ms/step - loss: 0.4130\n",
      "Epoch 38/100\n",
      "4/4 [==============================] - 0s 5ms/step - loss: 0.4139\n",
      "Epoch 39/100\n",
      "4/4 [==============================] - 0s 5ms/step - loss: 0.4129\n",
      "Epoch 40/100\n",
      "4/4 [==============================] - 0s 4ms/step - loss: 0.4129\n",
      "Epoch 41/100\n",
      "4/4 [==============================] - 0s 3ms/step - loss: 0.4116\n",
      "Epoch 42/100\n",
      "4/4 [==============================] - 0s 3ms/step - loss: 0.4103\n",
      "Epoch 43/100\n",
      "4/4 [==============================] - 0s 3ms/step - loss: 0.4093\n",
      "Epoch 44/100\n",
      "4/4 [==============================] - 0s 5ms/step - loss: 0.4093\n",
      "Epoch 45/100\n",
      "4/4 [==============================] - 0s 6ms/step - loss: 0.4093\n",
      "Epoch 46/100\n",
      "4/4 [==============================] - 0s 6ms/step - loss: 0.4081\n",
      "Epoch 47/100\n",
      "4/4 [==============================] - 0s 5ms/step - loss: 0.4071\n",
      "Epoch 48/100\n",
      "4/4 [==============================] - 0s 6ms/step - loss: 0.4064\n",
      "Epoch 49/100\n",
      "4/4 [==============================] - 0s 4ms/step - loss: 0.4060\n",
      "Epoch 50/100\n",
      "4/4 [==============================] - 0s 5ms/step - loss: 0.4053\n",
      "Epoch 51/100\n",
      "4/4 [==============================] - 0s 5ms/step - loss: 0.4044\n",
      "Epoch 52/100\n",
      "4/4 [==============================] - 0s 5ms/step - loss: 0.4042\n",
      "Epoch 53/100\n",
      "4/4 [==============================] - 0s 5ms/step - loss: 0.4032\n",
      "Epoch 54/100\n",
      "4/4 [==============================] - 0s 5ms/step - loss: 0.4030\n",
      "Epoch 55/100\n",
      "4/4 [==============================] - 0s 5ms/step - loss: 0.4031\n",
      "Epoch 56/100\n",
      "4/4 [==============================] - 0s 7ms/step - loss: 0.4022\n",
      "Epoch 57/100\n",
      "4/4 [==============================] - 0s 5ms/step - loss: 0.4005\n",
      "Epoch 58/100\n",
      "4/4 [==============================] - 0s 6ms/step - loss: 0.3998\n",
      "Epoch 59/100\n",
      "4/4 [==============================] - 0s 3ms/step - loss: 0.4003\n",
      "Epoch 60/100\n",
      "4/4 [==============================] - 0s 4ms/step - loss: 0.3985\n",
      "Epoch 61/100\n",
      "4/4 [==============================] - 0s 3ms/step - loss: 0.3978\n",
      "Epoch 62/100\n",
      "4/4 [==============================] - 0s 3ms/step - loss: 0.3993\n",
      "Epoch 63/100\n",
      "4/4 [==============================] - 0s 5ms/step - loss: 0.3968\n",
      "Epoch 64/100\n",
      "4/4 [==============================] - 0s 5ms/step - loss: 0.3959\n",
      "Epoch 65/100\n",
      "4/4 [==============================] - 0s 5ms/step - loss: 0.3960\n",
      "Epoch 66/100\n",
      "4/4 [==============================] - 0s 3ms/step - loss: 0.3949\n",
      "Epoch 67/100\n",
      "4/4 [==============================] - 0s 6ms/step - loss: 0.3936\n",
      "Epoch 68/100\n",
      "4/4 [==============================] - 0s 3ms/step - loss: 0.3938\n",
      "Epoch 69/100\n",
      "4/4 [==============================] - 0s 3ms/step - loss: 0.3937\n",
      "Epoch 70/100\n",
      "4/4 [==============================] - 0s 5ms/step - loss: 0.3935\n",
      "Epoch 71/100\n",
      "4/4 [==============================] - 0s 5ms/step - loss: 0.3914\n",
      "Epoch 72/100\n",
      "4/4 [==============================] - 0s 5ms/step - loss: 0.3913\n",
      "Epoch 73/100\n",
      "4/4 [==============================] - 0s 6ms/step - loss: 0.3901\n",
      "Epoch 74/100\n",
      "4/4 [==============================] - 0s 3ms/step - loss: 0.3915\n",
      "Epoch 75/100\n",
      "4/4 [==============================] - 0s 3ms/step - loss: 0.3903\n",
      "Epoch 76/100\n",
      "4/4 [==============================] - 0s 5ms/step - loss: 0.3882\n",
      "Epoch 77/100\n",
      "4/4 [==============================] - 0s 5ms/step - loss: 0.3873\n",
      "Epoch 78/100\n",
      "4/4 [==============================] - 0s 4ms/step - loss: 0.3865\n",
      "Epoch 79/100\n",
      "4/4 [==============================] - 0s 5ms/step - loss: 0.3872\n",
      "Epoch 80/100\n",
      "4/4 [==============================] - 0s 5ms/step - loss: 0.3852\n",
      "Epoch 81/100\n",
      "4/4 [==============================] - 0s 5ms/step - loss: 0.3861\n",
      "Epoch 82/100\n",
      "4/4 [==============================] - 0s 3ms/step - loss: 0.3846\n",
      "Epoch 83/100\n",
      "4/4 [==============================] - 0s 3ms/step - loss: 0.3836\n",
      "Epoch 84/100\n",
      "4/4 [==============================] - 0s 3ms/step - loss: 0.3831\n",
      "Epoch 85/100\n",
      "4/4 [==============================] - 0s 6ms/step - loss: 0.3827\n",
      "Epoch 86/100\n",
      "4/4 [==============================] - 0s 6ms/step - loss: 0.3810\n",
      "Epoch 87/100\n",
      "4/4 [==============================] - 0s 5ms/step - loss: 0.3803\n",
      "Epoch 88/100\n",
      "4/4 [==============================] - 0s 5ms/step - loss: 0.3797\n",
      "Epoch 89/100\n",
      "4/4 [==============================] - 0s 3ms/step - loss: 0.3802\n",
      "Epoch 90/100\n",
      "4/4 [==============================] - 0s 3ms/step - loss: 0.3785\n",
      "Epoch 91/100\n",
      "4/4 [==============================] - 0s 3ms/step - loss: 0.3781\n",
      "Epoch 92/100\n",
      "4/4 [==============================] - 0s 3ms/step - loss: 0.3773\n",
      "Epoch 93/100\n",
      "4/4 [==============================] - 0s 5ms/step - loss: 0.3763\n",
      "Epoch 94/100\n",
      "4/4 [==============================] - 0s 5ms/step - loss: 0.3757\n",
      "Epoch 95/100\n",
      "4/4 [==============================] - 0s 3ms/step - loss: 0.3748\n",
      "Epoch 96/100\n",
      "4/4 [==============================] - 0s 5ms/step - loss: 0.3740\n",
      "Epoch 97/100\n",
      "4/4 [==============================] - 0s 4ms/step - loss: 0.3729\n",
      "Epoch 98/100\n",
      "4/4 [==============================] - 0s 6ms/step - loss: 0.3737\n",
      "Epoch 99/100\n",
      "4/4 [==============================] - 0s 5ms/step - loss: 0.3718\n",
      "Epoch 100/100\n",
      "4/4 [==============================] - 0s 4ms/step - loss: 0.3720\n"
     ]
    },
    {
     "data": {
      "text/plain": [
       "<keras.src.callbacks.History at 0x237536f70a0>"
      ]
     },
     "execution_count": 13,
     "metadata": {},
     "output_type": "execute_result"
    }
   ],
   "source": [
    "model.fit(df.iloc[:,0:-1].values,df['lpa'].values,epochs=100,verbose=1,batch_size=1)"
   ]
  },
  {
   "cell_type": "code",
   "execution_count": null,
   "id": "d896e352",
   "metadata": {},
   "outputs": [],
   "source": []
  }
 ],
 "metadata": {
  "kernelspec": {
   "display_name": "Python 3 (ipykernel)",
   "language": "python",
   "name": "python3"
  },
  "language_info": {
   "codemirror_mode": {
    "name": "ipython",
    "version": 3
   },
   "file_extension": ".py",
   "mimetype": "text/x-python",
   "name": "python",
   "nbconvert_exporter": "python",
   "pygments_lexer": "ipython3",
   "version": "3.9.13"
  }
 },
 "nbformat": 4,
 "nbformat_minor": 5
}
